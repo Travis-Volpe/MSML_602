{
 "cells": [
  {
   "cell_type": "markdown",
   "metadata": {},
   "source": [
    "Front end technologies (i.e. R, Pythin, Scala, Java, SPSS, MATLAB, Excel) don't necessarily scale well - will run into hardward problems / restrictions\n",
    "\n",
    "Spark / hadoop interact with the cloud\n",
    "\n",
    "PySpark is going to find the spark instance and allow you to directly communicate using language of choice (in this case python) \n"
   ]
  },
  {
   "cell_type": "code",
   "execution_count": null,
   "metadata": {},
   "outputs": [],
   "source": [
    "# set up spark and imports\n",
    "%config IPCompleter.greedy=True  # allows autocomplete\n",
    "import findspark\n",
    "findspark.init()\n",
    "findspark.find()\n",
    "import pyspark\n",
    "findspark.find()\n",
    "from pyspark.sql import SparkSession\n",
    "import pandas as pd\n",
    "import numpy as np\n"
   ]
  },
  {
   "cell_type": "code",
   "execution_count": null,
   "metadata": {},
   "outputs": [],
   "source": []
  }
 ],
 "metadata": {
  "kernelspec": {
   "display_name": "Python 3",
   "language": "python",
   "name": "python3"
  },
  "language_info": {
   "codemirror_mode": {
    "name": "ipython",
    "version": 3
   },
   "file_extension": ".py",
   "mimetype": "text/x-python",
   "name": "python",
   "nbconvert_exporter": "python",
   "pygments_lexer": "ipython3",
   "version": "3.6.8"
  }
 },
 "nbformat": 4,
 "nbformat_minor": 2
}
